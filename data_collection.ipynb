{
 "cells": [
  {
   "cell_type": "code",
   "execution_count": null,
   "metadata": {},
   "outputs": [],
   "source": [
    "### Importing Libraries\n",
    "import os\n",
    "import sys\n",
    "import json\n",
    "from tweepy import Cursor\n",
    "import tweepy\n",
    "from tweepy import OAuthHandler\n",
    "import csv\n",
    "from operator import itemgetter\n",
    "import pandas as pd\n",
    "import itertools\n",
    "import collections\n",
    "\n",
    "#Variables that contains the user credentials to access Twitter API\n",
    "access_token = \"\"\n",
    "access_token_secret = \"\"\n",
    "consumer_key = \"\"\n",
    "consumer_secret = \"\"\n",
    "\n",
    "# authentication\n",
    "auth = tweepy.AppAuthHandler(consumer_key, consumer_secret)\n",
    "#auth.set_access_token(access_token, access_token_secret)\n",
    "api = tweepy.API(auth,wait_on_rate_limit=True,wait_on_rate_limit_notify = True)"
   ]
  },
  {
   "cell_type": "code",
   "execution_count": null,
   "metadata": {
    "scrolled": true
   },
   "outputs": [],
   "source": [
    "#Function to collect the tweet by searching\n",
    "def searchTweet():\n",
    "    keyWord = \"Supreme Court\"\n",
    "    try:\n",
    "        \n",
    "        datas = []\n",
    "        date = datetime.datetime.now()\n",
    "        year = date.year\n",
    "        month = date.month\n",
    "        day = date.day\n",
    "        hour = abs(date.hour - 12)\n",
    "        mints = date.minute\n",
    "        sec = date.second\n",
    "        Date = datetime.datetime(year,month,day,hour,mints,sec)\n",
    "        #searching for the tweets by keyword\n",
    "        for tweet in tweepy.Cursor(api.search,q= keyWord +' -filter:retweets -filter:replies',lang=\"en\",tweet_mode='extended').items(200000):\n",
    "            #Filtering the tweets before adding to the dataset\n",
    "            if  Date >= tweet.created_at and keyWord in tweet.full_text:\n",
    "                datas  = []\n",
    "                datas.append(tweet.user.screen_name)\n",
    "                datas.append(tweet.user.name)\n",
    "                datas.append(tweet.user.location)\n",
    "                datas.append(tweet.user.followers_count)\n",
    "                datas.append(tweet.user.friends_count)\n",
    "                datas.append(keyWord)\n",
    "                datas.append(tweet.id)\n",
    "                datas.append(tweet.full_text)\n",
    "                datas.append(tweet.retweet_count)\n",
    "                datas.append(tweet.favorite_count)\n",
    "                datas.append(tweet.created_at)\n",
    "                datas.append(tweet.user.statuses_count)\n",
    "                datas.append(tweet.user.listed_count)\n",
    "                datas.append(tweet.user.favourites_count)\n",
    "                #Storing the tweets in a csv\n",
    "                with open('topic_.csv', \"a\",newline='',encoding=\"utf-8\") as data:\n",
    "                    writer = csv.writer(data)\n",
    "                    writer.writerow(datas)\n",
    "\n",
    "                 \n",
    "    except BaseException as e:\n",
    "        print(str(e))\n",
    "       \n",
    "    \n",
    "searchTweet()"
   ]
  }
 ],
 "metadata": {
  "kernelspec": {
   "display_name": "Python 3",
   "language": "python",
   "name": "python3"
  },
  "language_info": {
   "codemirror_mode": {
    "name": "ipython",
    "version": 3
   },
   "file_extension": ".py",
   "mimetype": "text/x-python",
   "name": "python",
   "nbconvert_exporter": "python",
   "pygments_lexer": "ipython3",
   "version": "3.8.5"
  },
  "toc": {
   "base_numbering": 1,
   "nav_menu": {},
   "number_sections": true,
   "sideBar": true,
   "skip_h1_title": false,
   "title_cell": "Table of Contents",
   "title_sidebar": "Contents",
   "toc_cell": false,
   "toc_position": {
    "height": "calc(100% - 180px)",
    "left": "10px",
    "top": "150px",
    "width": "165px"
   },
   "toc_section_display": true,
   "toc_window_display": false
  }
 },
 "nbformat": 4,
 "nbformat_minor": 4
}
